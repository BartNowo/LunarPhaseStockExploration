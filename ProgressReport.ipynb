{
 "cells": [
  {
   "cell_type": "markdown",
   "metadata": {},
   "source": [
    "# Progress Report\n",
    "\n",
    "CS418 Data Science\n",
    "\n",
    "04/05/2024\n",
    "\n",
    "- Bart Nowobilski\n",
    "- Emilio Kiryakos\n",
    "- David Mendoza\n",
    "- Adithya Jose\n",
    "- Mustafa Ausaf"
   ]
  },
  {
   "cell_type": "markdown",
   "metadata": {},
   "source": [
    "**Introduction:**\n",
    "___________________________________________________________________________________________________\n",
    "The question were are investigating is whether a correlation exists between \n",
    "the lunar phases and the behavior of stocks. In the world of finance, traders and analysis, \n",
    "have aimed to uncover any patterns and trends that may aid in making financial decisions in this \n",
    "case stock investments. Since ancient times it is believed that celestial events have had an \n",
    "impacted on animals, humans, and their activity and behavior. We understand we have to be mindful \n",
    "of correlation without causation but this is an intresting stragetgy that many people employ already \n",
    "and we seek to support or deny the validity of this stragetgy. Using historical stock data and collected\n",
    "phases of the moon ranging years back we seek to examine patterns and statistics that could easily\n",
    "elude the naked eye. More specifically we're investigating a few areas of stock behavior including the \n",
    "relationship between the phases of the moon and volume, the avg price increase between phases,\n",
    "the highs and lows of price within a lunar cycle, and more. This project is not motivated by just \n",
    "academic curiosity, it also holds practical uses providing another source of information to make \n",
    "educated financial decisions."
   ]
  },
  {
   "cell_type": "markdown",
   "metadata": {},
   "source": [
    "**Changes since the proposal:**\n",
    "__________________________________________________________________________________________________\n",
    "Since our proposal we have made some changes/updates to our inital proposed plan. After collecting\n",
    "our data and seeing the avaible information collected we were able to further defined the \n",
    "scope of our research and analysis. \n",
    "- Initially we proposed to investigating soley the relationship between the phases of the moon and price action of a stock \n",
    "- Realizing the avaiblilty of the data we had we added exploration of different areas of stock related info to provide insightful findings \n",
    "and idenify other potential consistencies. As previously mentioned were taking a look at the stock price for the day open and close, the days high \n",
    "and the lows, and the volume of stock each day\n",
    "\n"
   ]
  },
  {
   "cell_type": "markdown",
   "metadata": {},
   "source": [
    "** Data **"
   ]
  }
 ],
 "metadata": {
  "language_info": {
   "name": "python"
  }
 },
 "nbformat": 4,
 "nbformat_minor": 2
}
